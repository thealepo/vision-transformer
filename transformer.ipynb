{
 "cells": [
  {
   "cell_type": "markdown",
   "id": "a980b0c5",
   "metadata": {},
   "source": [
    "**STEP-BY-STEP**"
   ]
  },
  {
   "cell_type": "markdown",
   "id": "e17f0755",
   "metadata": {},
   "source": [
    "Step 1: Image-to-Patches"
   ]
  },
  {
   "cell_type": "markdown",
   "id": "fc291f49",
   "metadata": {},
   "source": [
    "Step 2: Patch Embeddings"
   ]
  },
  {
   "cell_type": "markdown",
   "id": "6111926d",
   "metadata": {},
   "source": [
    "Step 3: Add Positional Embeddings"
   ]
  },
  {
   "cell_type": "markdown",
   "id": "f89aa81d",
   "metadata": {},
   "source": [
    "Step 4: Add [CLS] Token"
   ]
  },
  {
   "cell_type": "markdown",
   "id": "f52c0792",
   "metadata": {},
   "source": [
    "Step 5: Transformer Encoder Layers"
   ]
  },
  {
   "cell_type": "markdown",
   "id": "118d1148",
   "metadata": {},
   "source": [
    "Step 6: Classification Head (MLP + Softmax)"
   ]
  },
  {
   "cell_type": "markdown",
   "id": "0bd08a82",
   "metadata": {},
   "source": [
    "ViT Pipeline\n",
    "- Input Image (e.g 243x243x3) is divided into fixed-size patches (e.g 16x16)\n",
    "- This converts images into a sequence of small, flattened grids\n",
    "- Patch Embedding\n",
    "- Each patch is flattened into a vector and passed through a linear projection layer to embed it into a fixed-length vector\n",
    "- Add positional embeddings\n",
    "- Add [CLS] Token\n",
    "- The sequence (patch embeddings + CLS + positional encoding) is fed into Transformer encoder layers:"
   ]
  }
 ],
 "metadata": {
  "language_info": {
   "name": "python"
  }
 },
 "nbformat": 4,
 "nbformat_minor": 5
}
