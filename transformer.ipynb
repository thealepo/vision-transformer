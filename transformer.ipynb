{
 "cells": [
  {
   "cell_type": "markdown",
   "id": "a980b0c5",
   "metadata": {},
   "source": [
    "**STEP-BY-STEP**"
   ]
  },
  {
   "cell_type": "markdown",
   "id": "e17f0755",
   "metadata": {},
   "source": [
    "Step 1: Image-to-Patches"
   ]
  },
  {
   "cell_type": "markdown",
   "id": "fc291f49",
   "metadata": {},
   "source": [
    "Step 2: Patch Embeddings"
   ]
  },
  {
   "cell_type": "markdown",
   "id": "6111926d",
   "metadata": {},
   "source": [
    "Step 3: Add Positional Embeddings"
   ]
  },
  {
   "cell_type": "markdown",
   "id": "f89aa81d",
   "metadata": {},
   "source": [
    "Step 4: Add [CLS] Token"
   ]
  },
  {
   "cell_type": "markdown",
   "id": "f52c0792",
   "metadata": {},
   "source": [
    "Step 5: Transformer Encoder Layers"
   ]
  },
  {
   "cell_type": "markdown",
   "id": "118d1148",
   "metadata": {},
   "source": [
    "Step 6: Classification Head (MLP + Softmax)"
   ]
  },
  {
   "cell_type": "markdown",
   "id": "0bd08a82",
   "metadata": {},
   "source": [
    "ViT Pipeline\n",
    "- Input Image (e.g 243x243x3) is divided into fixed-size patches (e.g 16x16)\n",
    "- This converts images into a sequence of small, flattened grids\n",
    "- Patch Embedding\n",
    "- Each patch is flattened into a vector and passed through a linear projection layer to embed it into a fixed-length vector\n",
    "- Add positional embeddings\n",
    "- Add [CLS] Token\n",
    "- The sequence (patch embeddings + CLS + positional encoding) is fed into Transformer encoder layers:"
   ]
  },
  {
   "cell_type": "code",
   "execution_count": 7,
   "id": "454f5ea2",
   "metadata": {},
   "outputs": [],
   "source": [
    "import torch\n",
    "import torch.nn as nn\n",
    "import torch.nn.functional as F\n",
    "import torch.optim as optim\n",
    "from torch.utils.data import DataLoader\n",
    "import numpy as np\n",
    "import random\n",
    "import matplotlib.pyplot as plt"
   ]
  },
  {
   "cell_type": "code",
   "execution_count": 8,
   "id": "72a5f42d",
   "metadata": {},
   "outputs": [
    {
     "data": {
      "text/plain": [
       "False"
      ]
     },
     "execution_count": 8,
     "metadata": {},
     "output_type": "execute_result"
    }
   ],
   "source": [
    "torch.cuda.is_available()"
   ]
  },
  {
   "cell_type": "code",
   "execution_count": 11,
   "id": "6d6c75ed",
   "metadata": {},
   "outputs": [],
   "source": [
    "torch.manual_seed(42)\n",
    "random.seed(42)"
   ]
  },
  {
   "cell_type": "code",
   "execution_count": 12,
   "id": "428590d5",
   "metadata": {},
   "outputs": [],
   "source": [
    "# setting hyperparameters\n",
    "BATCH_SIZE = 128\n",
    "EPOCHS = 10\n",
    "ALPHA = 3e-4\n",
    "PATH_SIZE = 4\n",
    "NUM_CLASSES = 10\n",
    "IMAGE_SIZE = 32\n",
    "CHANNELS = 3\n",
    "EMBED_DIM = 256\n",
    "NUM_HEADS = 8\n",
    "DEPTH = 6\n",
    "MLP_DIM = 512\n",
    "DROP_RATE = 0.1"
   ]
  },
  {
   "cell_type": "code",
   "execution_count": null,
   "id": "7e1e062c",
   "metadata": {},
   "outputs": [],
   "source": []
  }
 ],
 "metadata": {
  "kernelspec": {
   "display_name": "Python 3",
   "language": "python",
   "name": "python3"
  },
  "language_info": {
   "codemirror_mode": {
    "name": "ipython",
    "version": 3
   },
   "file_extension": ".py",
   "mimetype": "text/x-python",
   "name": "python",
   "nbconvert_exporter": "python",
   "pygments_lexer": "ipython3",
   "version": "3.11.9"
  }
 },
 "nbformat": 4,
 "nbformat_minor": 5
}
